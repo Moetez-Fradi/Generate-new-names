{
 "cells": [
  {
   "cell_type": "code",
   "execution_count": 1,
   "id": "2b39494b-599d-458d-9ac1-4598d1f00e7a",
   "metadata": {},
   "outputs": [],
   "source": [
    "import torch\n",
    "import matplotlib.pyplot as plt\n",
    "import numpy as np\n",
    "import torch.nn.functional as F"
   ]
  },
  {
   "cell_type": "code",
   "execution_count": 2,
   "id": "08724449-3e65-4203-888b-886d9660b421",
   "metadata": {},
   "outputs": [],
   "source": [
    "word = open(\"names.txt\", \"r\").read().splitlines()"
   ]
  },
  {
   "cell_type": "code",
   "execution_count": 3,
   "id": "b3380150-4263-4b6c-a657-3802982b5d49",
   "metadata": {},
   "outputs": [],
   "source": [
    "N = torch.zeros((27,27), dtype=torch.int32)\n",
    "chars = sorted(list(set(''.join(word))))\n",
    "stoi = {s:i+1 for i,s in enumerate(chars)}\n",
    "stoi['.'] = 0\n",
    "itos = {i:s for s,i in stoi.items()}"
   ]
  },
  {
   "cell_type": "code",
   "execution_count": 4,
   "id": "469dd51c-fb3c-4764-a9fd-0f320c7dcb82",
   "metadata": {},
   "outputs": [],
   "source": [
    "for w in word:\n",
    "    chs = ['.'] + list(w) + ['.']\n",
    "    for c1, c2 in zip(chs, chs[1:]):\n",
    "        x = stoi[c1]\n",
    "        y = stoi[c2]\n",
    "        N[x][y] += 1 "
   ]
  },
  {
   "cell_type": "code",
   "execution_count": 5,
   "id": "6b5e8b89-998f-459d-b489-2c867d100613",
   "metadata": {},
   "outputs": [],
   "source": [
    "# plt.figure(figsize=(16,16))\n",
    "# plt.imshow(N, cmap='Blues')\n",
    "# for i in range(27):\n",
    "#     for j in range(27):\n",
    "#         chstr = itos[i] + itos[j]\n",
    "#         plt.text(j, i, chstr, ha=\"center\", va=\"bottom\", color='gray')\n",
    "#         plt.text(j, i, N[i, j].item(), ha=\"center\", va=\"top\", color='gray')\n",
    "# plt.axis('off')\n",
    "# plt.show()\n",
    "\n",
    "#all this works in the local file \"kernel restarted.py\" but doesnt on the notebook (for no known reason)"
   ]
  },
  {
   "cell_type": "code",
   "execution_count": 9,
   "id": "7363e6b4-897d-4d46-bf12-a26492827959",
   "metadata": {},
   "outputs": [
    {
     "name": "stdout",
     "output_type": "stream",
     "text": [
      "tensor([0.0000, 0.1377, 0.0408, 0.0481, 0.0528, 0.0478, 0.0130, 0.0209, 0.0273,\n",
      "        0.0184, 0.0756, 0.0925, 0.0491, 0.0792, 0.0358, 0.0123, 0.0161, 0.0029,\n",
      "        0.0512, 0.0642, 0.0408, 0.0024, 0.0117, 0.0096, 0.0042, 0.0167, 0.0290])\n"
     ]
    },
    {
     "data": {
      "text/plain": [
       "'j'"
      ]
     },
     "execution_count": 9,
     "metadata": {},
     "output_type": "execute_result"
    }
   ],
   "source": [
    "#exemple\n",
    "p = N[0].float()\n",
    "p = p /p.sum()\n",
    "g = torch.Generator().manual_seed(2147483647)\n",
    "print(p)\n",
    "ix = torch.multinomial(p, num_samples=1, replacement=True, generator=g).item()\n",
    "itos[ix]"
   ]
  },
  {
   "cell_type": "code",
   "execution_count": 10,
   "id": "72a8a318-9d8d-46b6-84e0-43909b7d03af",
   "metadata": {},
   "outputs": [],
   "source": [
    "P = (N+1).float()\n",
    "P /= P.sum(1, keepdims=True)\n",
    "# P = [p / p.sum() for p in N.float()]\n",
    "# for i in range(27):    \n",
    "#     print(P[i].sum())"
   ]
  },
  {
   "cell_type": "code",
   "execution_count": null,
   "id": "31ef9023-9b6d-4dbf-9d7d-687987d1fdaa",
   "metadata": {},
   "outputs": [],
   "source": [
    "for i in range (500, 600):\n",
    "    s = \"\"\n",
    "    g = torch.Generator().manual_seed(i)\n",
    "    p = N[0].float()\n",
    "    while (True):\n",
    "        ix = torch.multinomial(p, num_samples=1, replacement=True, generator=g).item()\n",
    "        if(itos[ix] == '.'):\n",
    "            break\n",
    "        s += itos[ix]\n",
    "        p = P[ix]\n",
    "    print(s)"
   ]
  },
  {
   "cell_type": "code",
   "execution_count": 12,
   "id": "dc2aeaa7-3bb4-44ac-8354-09d45154acc4",
   "metadata": {},
   "outputs": [
    {
     "name": "stdout",
     "output_type": "stream",
     "text": [
      "log_likelihood.item()=-559951.5625\n",
      "nll=559951.5625\n",
      "2.4543562565199477\n"
     ]
    }
   ],
   "source": [
    "log_likelihood = 0.0\n",
    "n = 0\n",
    "\n",
    "for w in word:\n",
    "#for w in [\"andrejq\"]:\n",
    "  chs = ['.'] + list(w) + ['.']\n",
    "  for ch1, ch2 in zip(chs, chs[1:]):\n",
    "    ix1 = stoi[ch1]\n",
    "    ix2 = stoi[ch2]\n",
    "    prob = P[ix1, ix2]\n",
    "    logprob = torch.log(prob)\n",
    "    log_likelihood += logprob\n",
    "    n += 1\n",
    "    #print(f'{ch1}{ch2}: {prob:.4f} {logprob:.4f}')\n",
    "\n",
    "print(f'{log_likelihood.item()=}')\n",
    "nll = -log_likelihood.item()\n",
    "print(f'{nll=}')\n",
    "print(f'{nll/n}')"
   ]
  },
  {
   "cell_type": "code",
   "execution_count": 18,
   "id": "ae735518-96db-4f9a-97db-62aef054343d",
   "metadata": {},
   "outputs": [],
   "source": [
    "#training\n",
    "xs, ys = [], []\n",
    "for w in word:\n",
    "    chs = ['.'] + list(w) + ['.']\n",
    "    for c1, c2 in zip(chs, chs[1:]):\n",
    "        x = stoi[c1]\n",
    "        y = stoi[c2]\n",
    "        ys.append(y)\n",
    "        xs.append(x)\n",
    "xs = torch.tensor(xs)\n",
    "ys = torch.tensor(ys)\n",
    "num = xs.nelement()"
   ]
  },
  {
   "cell_type": "code",
   "execution_count": null,
   "id": "d27af012-ae8f-4098-b153-5e4eb96a85b5",
   "metadata": {},
   "outputs": [],
   "source": [
    "xs"
   ]
  },
  {
   "cell_type": "code",
   "execution_count": null,
   "id": "bba10927-c0de-45fd-abeb-ba57b904b77b",
   "metadata": {},
   "outputs": [],
   "source": [
    "ys"
   ]
  },
  {
   "cell_type": "code",
   "execution_count": 19,
   "id": "d2c6688b-3f0f-4414-a915-fba47b2854e3",
   "metadata": {},
   "outputs": [
    {
     "data": {
      "text/plain": [
       "torch.Size([228146, 27])"
      ]
     },
     "execution_count": 19,
     "metadata": {},
     "output_type": "execute_result"
    }
   ],
   "source": [
    "xenc = F.one_hot(xs, num_classes = 27).float()\n",
    "xenc.shape"
   ]
  },
  {
   "cell_type": "code",
   "execution_count": 27,
   "id": "8c06b0dc-f547-401d-a3bc-830c4d97ed7c",
   "metadata": {},
   "outputs": [],
   "source": [
    "xenc.shape\n",
    "w = torch.randn((27,27), requires_grad = True)"
   ]
  },
  {
   "cell_type": "code",
   "execution_count": 29,
   "id": "5e8815df-f113-41eb-a53f-79cab17c1caa",
   "metadata": {},
   "outputs": [],
   "source": [
    "logits = xenc @ w\n",
    "counts = logits.exp()"
   ]
  },
  {
   "cell_type": "code",
   "execution_count": 31,
   "id": "08cfc5a8-0752-495c-a2e9-23fd268c6690",
   "metadata": {},
   "outputs": [],
   "source": [
    "probs = counts / counts.sum(1, keepdim = True)"
   ]
  },
  {
   "cell_type": "code",
   "execution_count": 33,
   "id": "8ed26562-df18-42b9-96ef-0e45ea6a5f5e",
   "metadata": {},
   "outputs": [
    {
     "data": {
      "text/plain": [
       "tensor(1.0000, grad_fn=<SumBackward0>)"
      ]
     },
     "execution_count": 33,
     "metadata": {},
     "output_type": "execute_result"
    }
   ],
   "source": [
    "probs[0].sum()"
   ]
  },
  {
   "cell_type": "code",
   "execution_count": null,
   "id": "f5c82a9b-c4b7-4237-af90-839ea46ef199",
   "metadata": {},
   "outputs": [],
   "source": [
    "for k in range (100):\n",
    "    xenc = F.one_hot(xs, num_classes = 27).float()\n",
    "    logits = xenc @ w\n",
    "    counts = logits.exp() # equivalent N\n",
    "    probs = counts / counts.sum(1, keepdims=True)\n",
    "    loss = -probs[torch.arange(num), ys].log().mean() + 0.01*(w**2).mean()\n",
    "    print(loss.item())\n",
    "\n",
    "    w.grad=None\n",
    "    loss.backward()\n",
    "    w.data += -50 * w.grad"
   ]
  },
  {
   "cell_type": "code",
   "execution_count": null,
   "id": "0a630ebb-b455-40bb-9e40-108f4b6e4ddd",
   "metadata": {},
   "outputs": [],
   "source": []
  }
 ],
 "metadata": {
  "kernelspec": {
   "display_name": "Python 3 (ipykernel)",
   "language": "python",
   "name": "python3"
  },
  "language_info": {
   "codemirror_mode": {
    "name": "ipython",
    "version": 3
   },
   "file_extension": ".py",
   "mimetype": "text/x-python",
   "name": "python",
   "nbconvert_exporter": "python",
   "pygments_lexer": "ipython3",
   "version": "3.12.4"
  }
 },
 "nbformat": 4,
 "nbformat_minor": 5
}

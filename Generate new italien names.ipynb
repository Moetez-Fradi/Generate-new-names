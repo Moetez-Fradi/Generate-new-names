{
 "cells": [
  {
   "metadata": {},
   "cell_type": "markdown",
   "source": [
    "# A ML model designed to generate unique and authentic Italian names!\n",
    "#### Note that we can use the same code to generate names in **any language** if we have a similar txt file, we will just have to adjust the **alphabet_length** depending on the number of letters of the chosen language.\n"
   ],
   "id": "7c561b267fb8d2e2"
  },
  {
   "cell_type": "code",
   "id": "initial_id",
   "metadata": {
    "collapsed": true,
    "ExecuteTime": {
     "end_time": "2025-03-15T10:07:36.723946Z",
     "start_time": "2025-03-15T10:07:34.263899Z"
    }
   },
   "source": [
    "import torch\n",
    "import matplotlib.pyplot as plt\n",
    "from torch.onnx.symbolic_opset9 import tensor\n",
    "import torch.nn.functional as F"
   ],
   "outputs": [],
   "execution_count": 1
  },
  {
   "metadata": {
    "ExecuteTime": {
     "end_time": "2025-03-15T10:07:36.788826Z",
     "start_time": "2025-03-15T10:07:36.771366Z"
    }
   },
   "cell_type": "code",
   "source": [
    "words = open(\"names ita.txt\", \"r\").read().splitlines()\n",
    "words[:10]"
   ],
   "id": "56e792aaba20ba2",
   "outputs": [
    {
     "data": {
      "text/plain": [
       "['abaco',\n",
       " 'abbondanza',\n",
       " 'abbondanzia',\n",
       " 'abbondanzio',\n",
       " 'abbondazio',\n",
       " 'abbondia',\n",
       " 'abbondina',\n",
       " 'abbondio',\n",
       " 'abdenago',\n",
       " 'abdon']"
      ]
     },
     "execution_count": 2,
     "metadata": {},
     "output_type": "execute_result"
    }
   ],
   "execution_count": 2
  },
  {
   "metadata": {
    "ExecuteTime": {
     "end_time": "2025-03-15T10:07:37.269730Z",
     "start_time": "2025-03-15T10:07:37.262365Z"
    }
   },
   "cell_type": "code",
   "source": [
    "alphabet_length = 36 # this can be changed depending on the language\n",
    "chars = sorted(list(set(''.join(words))))\n",
    "stoi = {c:i+1 for i,c in enumerate(chars)}\n",
    "stoi[\".\"] = 0\n",
    "itos = { i:c for c,i in stoi.items()}\n",
    "itos"
   ],
   "id": "1fbe113acd4868e5",
   "outputs": [
    {
     "data": {
      "text/plain": [
       "{1: 'a',\n",
       " 2: 'b',\n",
       " 3: 'c',\n",
       " 4: 'd',\n",
       " 5: 'e',\n",
       " 6: 'f',\n",
       " 7: 'g',\n",
       " 8: 'h',\n",
       " 9: 'i',\n",
       " 10: 'j',\n",
       " 11: 'k',\n",
       " 12: 'l',\n",
       " 13: 'm',\n",
       " 14: 'n',\n",
       " 15: 'o',\n",
       " 16: 'p',\n",
       " 17: 'q',\n",
       " 18: 'r',\n",
       " 19: 's',\n",
       " 20: 't',\n",
       " 21: 'u',\n",
       " 22: 'v',\n",
       " 23: 'w',\n",
       " 24: 'x',\n",
       " 25: 'y',\n",
       " 26: 'z',\n",
       " 27: '¡',\n",
       " 28: '¨',\n",
       " 29: '¯',\n",
       " 30: 'º',\n",
       " 31: 'Ã',\n",
       " 32: 'Ë',\n",
       " 33: 'â',\n",
       " 34: '˜',\n",
       " 35: '€',\n",
       " 0: '.'}"
      ]
     },
     "execution_count": 3,
     "metadata": {},
     "output_type": "execute_result"
    }
   ],
   "execution_count": 3
  },
  {
   "metadata": {
    "ExecuteTime": {
     "end_time": "2025-03-15T10:07:37.382401Z",
     "start_time": "2025-03-15T10:07:37.275066Z"
    }
   },
   "cell_type": "code",
   "source": [
    "blcok_size = 3\n",
    "x, y = [], []\n",
    "for w in words:\n",
    "    # print(w)\n",
    "    context = [0] * blcok_size\n",
    "    for c in w + '.':\n",
    "        ix = stoi[c]\n",
    "        x.append(context)\n",
    "        y.append(ix)\n",
    "        # print( \"\".join(itos[i] for i in context) , \"---->\", c)\n",
    "        context = context[1:] + [ix]\n",
    "x = torch.tensor(x)\n",
    "y = torch.tensor(y)"
   ],
   "id": "cff9b298eadea0c8",
   "outputs": [],
   "execution_count": 4
  },
  {
   "metadata": {
    "ExecuteTime": {
     "end_time": "2025-03-15T10:07:37.418503Z",
     "start_time": "2025-03-15T10:07:37.398234Z"
    }
   },
   "cell_type": "code",
   "source": [
    "#the main model is brought to life starting from here\n",
    "g = torch.Generator().manual_seed(2147483647)\n",
    "c = torch.randn(alphabet_length,10, requires_grad=True, generator=g)\n",
    "w1 = torch.randn(30,300,requires_grad=True, generator=g)\n",
    "b1 = torch.randn(300,requires_grad=True, generator=g)\n",
    "w2 = torch.randn(300,alphabet_length, requires_grad=True, generator=g)\n",
    "b2 = torch.randn(alphabet_length, requires_grad=True, generator=g)\n",
    "params = [w1, b1, w2, b2, c]\n",
    "num_params = sum(p.nelement() for p in params)\n",
    "for p in params:\n",
    "  p.requires_grad = True"
   ],
   "id": "e7c85a6d08505fe",
   "outputs": [],
   "execution_count": 5
  },
  {
   "metadata": {
    "ExecuteTime": {
     "end_time": "2025-03-15T10:07:37.575972Z",
     "start_time": "2025-03-15T10:07:37.525010Z"
    }
   },
   "cell_type": "code",
   "source": [
    "block_size = 3 # this is the context length: how many characters do we take to predict the next one?\n",
    "\n",
    "def build_dataset(words):  \n",
    "  X, Y = [], []\n",
    "  for w in words:\n",
    "\n",
    "    #print(w)\n",
    "    context = [0] * block_size\n",
    "    for ch in w + '.':\n",
    "      ix = stoi[ch]\n",
    "      X.append(context)\n",
    "      Y.append(ix)\n",
    "      #print(''.join(itos[i] for i in context), '--->', itos[ix])\n",
    "      context = context[1:] + [ix] # next context\n",
    "\n",
    "  X = torch.tensor(X)\n",
    "  Y = torch.tensor(Y)\n",
    "  print(X.shape, Y.shape)\n",
    "  return X, Y\n",
    "\n",
    "import random\n",
    "random.seed(42)\n",
    "random.shuffle(words)\n",
    "n1 = int(0.8*len(words))\n",
    "n2 = int(0.9*len(words))\n",
    "\n",
    "Xtr, Ytr = build_dataset(words[:n1])\n",
    "Xdev, Ydev = build_dataset(words[n1:n2])\n",
    "Xte, Yte = build_dataset(words[n2:])"
   ],
   "id": "860e22404249befe",
   "outputs": [
    {
     "name": "stdout",
     "output_type": "stream",
     "text": [
      "torch.Size([57217, 3]) torch.Size([57217])\n",
      "torch.Size([7148, 3]) torch.Size([7148])\n",
      "torch.Size([7166, 3]) torch.Size([7166])\n"
     ]
    }
   ],
   "execution_count": 6
  },
  {
   "metadata": {
    "ExecuteTime": {
     "end_time": "2025-03-15T10:09:17.901993Z",
     "start_time": "2025-03-15T10:07:37.614143Z"
    }
   },
   "cell_type": "code",
   "source": [
    "#included\n",
    "for i in range(50000): \n",
    "  ix = torch.randint(0, Xtr.shape[0], (32,))\n",
    "\n",
    "  emb = c[Xtr[ix]] \n",
    "  h = torch.tanh(emb.view(-1, 30) @ w1 + b1) \n",
    "  logits = h @ w2 + b2 \n",
    "  loss = F.cross_entropy(logits, Ytr[ix])\n",
    "  \n",
    "  for p in params:\n",
    "    p.grad = None\n",
    "  loss.backward()\n",
    "  \n",
    "  lr = 0.1 if i < 40000 else 0.01\n",
    "  # lr = 0.05\n",
    "  for p in params:\n",
    "    p.data += -lr * p.grad\n"
   ],
   "id": "ba205e152a5b93ac",
   "outputs": [],
   "execution_count": 7
  },
  {
   "metadata": {
    "ExecuteTime": {
     "end_time": "2025-03-15T10:09:17.938878Z",
     "start_time": "2025-03-15T10:09:17.901993Z"
    }
   },
   "cell_type": "code",
   "source": [
    "emb = c[Xtr] # (32, 3, 2)\n",
    "h = torch.tanh(emb.view(-1, 30) @ w1 + b1) # (32, 100)\n",
    "logits = h @ w2 + b2 # (32, 27)\n",
    "loss = F.cross_entropy(logits, Ytr)\n",
    "loss"
   ],
   "id": "1aa954bd3baa245f",
   "outputs": [
    {
     "data": {
      "text/plain": [
       "tensor(1.7092, grad_fn=<NllLossBackward0>)"
      ]
     },
     "execution_count": 8,
     "metadata": {},
     "output_type": "execute_result"
    }
   ],
   "execution_count": 8
  },
  {
   "metadata": {
    "ExecuteTime": {
     "end_time": "2025-03-15T10:09:18.029549Z",
     "start_time": "2025-03-15T10:09:18.006468Z"
    }
   },
   "cell_type": "code",
   "source": [
    "emb = c[Xdev] # (32, 3, 2)\n",
    "h = torch.tanh(emb.view(-1, 30) @ w1 + b1) # (32, 100)\n",
    "logits = h @ w2 + b2 # (32, 27)\n",
    "loss = F.cross_entropy(logits, Ydev)\n",
    "loss"
   ],
   "id": "91177090a991c4ee",
   "outputs": [
    {
     "data": {
      "text/plain": [
       "tensor(1.8712, grad_fn=<NllLossBackward0>)"
      ]
     },
     "execution_count": 9,
     "metadata": {},
     "output_type": "execute_result"
    }
   ],
   "execution_count": 9
  },
  {
   "metadata": {},
   "cell_type": "markdown",
   "source": [
    "## Character Embeddings Visualization\n",
    "\n",
    "This 2D scatter plot visualizes the learned character embeddings from the model. Each point represents a character, and its position reflects the first two dimensions of its embedding vector. Characters closer together in the plot have similar embeddings, indicating they behave **similarly** in the context of **Italian names**. The plot helps reveal **patterns and relationships** between characters, such as clusters of vowels or consonants, and provides insights into how the model represents linguistic features."
   ],
   "id": "b3883b536164dbd9"
  },
  {
   "metadata": {
    "ExecuteTime": {
     "end_time": "2025-03-15T10:09:18.272102Z",
     "start_time": "2025-03-15T10:09:18.047093Z"
    }
   },
   "cell_type": "code",
   "source": [
    "plt.figure(figsize=(8,8))\n",
    "plt.scatter(c[:,0].data, c[:,1].data, s=200)\n",
    "for i in range(c.shape[0]):\n",
    "    plt.text(c[i,0].item(), c[i,1].item(), itos[i], ha=\"center\", va=\"center\", color='white')\n",
    "plt.grid('minor')"
   ],
   "id": "3b67dc7b18fcd50b",
   "outputs": [
    {
     "data": {
      "text/plain": [
       "<Figure size 800x800 with 1 Axes>"
      ],
      "image/png": "[encoded data removed]"
     },
     "metadata": {},
     "output_type": "display_data"
    }
   ],
   "execution_count": 10
  },
  {
   "metadata": {
    "ExecuteTime": {
     "end_time": "2025-03-15T10:09:23.222783Z",
     "start_time": "2025-03-15T10:09:18.290730Z"
    }
   },
   "cell_type": "code",
   "source": [
    "g = torch.Generator().manual_seed(2147483645)\n",
    "generated_names = []\n",
    "for _ in range(10000):\n",
    "    \n",
    "    out = []\n",
    "    context = [0] * block_size # initialize with all ...\n",
    "    while True:\n",
    "      emb = c[torch.tensor([context])] # (1,block_size,d)\n",
    "      h = torch.tanh(emb.view(1, -1) @ w1 + b1)\n",
    "      logits = h @ w2 + b2\n",
    "      probs = F.softmax(logits, dim=1)\n",
    "      ix = torch.multinomial(probs, num_samples=1, generator=g).item()\n",
    "      context = context[1:] + [ix]\n",
    "      out.append(ix)\n",
    "      if ix == 0:\n",
    "        break\n",
    "    generated_names.append(''.join(itos[i] for i in out[:-1]))"
   ],
   "id": "b33b84faee17aed0",
   "outputs": [],
   "execution_count": 11
  },
  {
   "metadata": {
    "ExecuteTime": {
     "end_time": "2025-03-15T10:09:46.263250Z",
     "start_time": "2025-03-15T10:09:46.259663Z"
    }
   },
   "cell_type": "code",
   "source": [
    "# for name in generated_names:\n",
    "#         print(name)\n",
    "# This output will be so long if you comment it out (10K lines)\n",
    "print(generated_names[:10])"
   ],
   "id": "9dcb5a88e63483af",
   "outputs": [
    {
     "name": "stdout",
     "output_type": "stream",
     "text": [
      "['druccio', 'ella', 'sistannrino', 'mazzo', 'commello', 'consera', 'mannaceniglio', 'alfrora', 'ferrinonisiallia', 'alviso']\n"
     ]
    }
   ],
   "execution_count": 14
  },
  {
   "metadata": {
    "ExecuteTime": {
     "end_time": "2025-03-15T10:09:23.273096Z",
     "start_time": "2025-03-15T10:09:23.263214Z"
    }
   },
   "cell_type": "code",
   "source": [
    "with open(\"output.txt\", \"w\") as file:\n",
    "    for item in generated_names:\n",
    "        file.write(item + \"\\n\")"
   ],
   "id": "ec8c2e4190992358",
   "outputs": [],
   "execution_count": 13
  }
 ],
 "metadata": {
  "kernelspec": {
   "display_name": "Python 3",
   "language": "python",
   "name": "python3"
  },
  "language_info": {
   "codemirror_mode": {
    "name": "ipython",
    "version": 2
   },
   "file_extension": ".py",
   "mimetype": "text/x-python",
   "name": "python",
   "nbconvert_exporter": "python",
   "pygments_lexer": "ipython2",
   "version": "2.7.6"
  }
 },
 "nbformat": 4,
 "nbformat_minor": 5
}
